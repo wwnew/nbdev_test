{
 "cells": [
  {
   "cell_type": "markdown",
   "metadata": {},
   "source": [
    "# nbdev report试用报告\n",
    "nbdev GitHub 地址：https://github.com/fastai/nbdev/\n",
    "nbdev 文档：https://nbdev.fast.ai/\n",
    "> install 安装软件  \n",
    "> export  自动创建导出 Python 模块   \n",
    "> 执行代码导航和编辑，并将所有更改自动导出回 notebook 中  \n",
    "> doc 自动生成文档  \n",
    "> test 测试  \n",
    "> CI 持续集成  \n",
    "> version control 版本控制和冲突处理  "
   ]
  },
  {
   "cell_type": "markdown",
   "metadata": {},
   "source": [
    "This file will become your README and also the index of your documentation."
   ]
  },
  {
   "cell_type": "markdown",
   "metadata": {},
   "source": [
    "##  Install 安装软件\n",
    "使用pip命令"
   ]
  },
  {
   "cell_type": "markdown",
   "metadata": {},
   "source": [
    "`pip install nbdev_test`"
   ]
  },
  {
   "cell_type": "markdown",
   "metadata": {},
   "source": [
    "安装完后从github上clone一个模板https://github.com/fastai/nbdev_template/generate  \n",
    "然后对其中的setup.ini文件进行编辑"
   ]
  },
  {
   "cell_type": "markdown",
   "metadata": {},
   "source": [
    "## 导出模块\n",
    "### *使用命令行方式\n",
    "直接在命令行窗口输入nbdev_build_lib 将会在同名目录下生成对应的.py文件\n",
    "### *在notebook最后插入cell，使用其中的export包，notebook2script \n",
    "```python\n",
    "#hide\n",
    "from nbdev.export import *\n",
    "notebook2script()\n",
    "```\n",
    "然后我们就可以在nbdev_test目录下看到自动生成的文件，同时我们可以从中导入对应的模块使用其中定义的函数"
   ]
  },
  {
   "cell_type": "code",
   "execution_count": null,
   "metadata": {},
   "outputs": [],
   "source": [
    "from nbdev_test.computer import *"
   ]
  },
  {
   "cell_type": "code",
   "execution_count": null,
   "metadata": {},
   "outputs": [
    {
     "name": "stdout",
     "output_type": "stream",
     "text": [
      "12\n"
     ]
    }
   ],
   "source": [
    "#hide\n",
    "f = multi(3,4)\n",
    "print(f)"
   ]
  },
  {
   "cell_type": "markdown",
   "metadata": {},
   "source": [
    "## doc 自动生成文档\n",
    "使用命令行工具nbdev_build_docs会自动生成docs，并将index.ipynb中的内容更新到对应的readme文件中。  \n",
    "``` python\n",
    "#export\n",
    "def say_hello(to):\n",
    "    \"Say hello to somebody\" #引号内为function描述，会自动在文档中生成\n",
    "    return f'Hello {to}!'\n",
    "    \n",
    "assert say_hello(\"Jeremy\")==\"Hello Jeremy!\"\n",
    "```\n",
    "除了使用命令行工具，还可以在notebook中运行如下代码show_doc(),可在celloutput中查看文档生成内容\n",
    "``` python\n",
    "from nbdev.showdoc import *\n",
    "show_doc(HelloSayer.say)\n",
    "```"
   ]
  },
  {
   "cell_type": "markdown",
   "metadata": {},
   "source": [
    "## 将更改自动导回 notebook 中\n",
    "在命令行中nbdev_update_lib 会把lib中的改动导回笔记本。  \n",
    "通过修改lib文件（即computer.py）,可以将py文件中的改动同步到notebook中。。\n"
   ]
  },
  {
   "cell_type": "markdown",
   "metadata": {},
   "source": [
    "## 公式表示\n",
    "例子：可以将公式表示出来\n",
    "```\n",
    "This version is diplayed inline: $\\sum_{i=1}^{k+1}i$ . You can include text before and after.\n",
    "```\n",
    "This version is diplayed inline: $\\sum_{i=1}^{k+1}i$ . You can include text before and after."
   ]
  },
  {
   "cell_type": "code",
   "execution_count": null,
   "metadata": {},
   "outputs": [],
   "source": []
  }
 ],
 "metadata": {
  "kernelspec": {
   "display_name": "Python 3",
   "language": "python",
   "name": "python3"
  }
 },
 "nbformat": 4,
 "nbformat_minor": 2
}
